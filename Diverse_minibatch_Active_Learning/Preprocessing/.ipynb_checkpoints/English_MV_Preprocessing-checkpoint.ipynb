{
 "cells": [
  {
   "cell_type": "code",
   "execution_count": 3,
   "metadata": {},
   "outputs": [],
   "source": [
    "import pandas as pd \n",
    "import torch\n",
    "import re\n",
    "from collections import defaultdict\n",
    "import pickle"
   ]
  },
  {
   "cell_type": "code",
   "execution_count": 4,
   "metadata": {},
   "outputs": [
    {
     "data": {
      "text/plain": [
       "((40000, 2), (10000, 2))"
      ]
     },
     "execution_count": 4,
     "metadata": {},
     "output_type": "execute_result"
    }
   ],
   "source": [
    "train_df = pd.read_csv('../../english_movie_review_train.csv')\n",
    "test_df = pd.read_csv(\"../../english_movie_review_test.csv\")\n",
    "\n",
    "train_df.shape, test_df.shape"
   ]
  },
  {
   "cell_type": "code",
   "execution_count": 5,
   "metadata": {},
   "outputs": [
    {
     "data": {
      "text/plain": [
       "((39728, 2), (9986, 2))"
      ]
     },
     "execution_count": 5,
     "metadata": {},
     "output_type": "execute_result"
    }
   ],
   "source": [
    "train_idx = train_df.drop_duplicates('X').index\n",
    "test_idx = test_df.drop_duplicates('X').index\n",
    "\n",
    "train_df = train_df.iloc[train_idx]\n",
    "test_df = test_df.iloc[test_idx]\n",
    "\n",
    "train_df.reset_index(drop=True,inplace=True)\n",
    "test_df.reset_index(drop=True,inplace=True)\n",
    "\n",
    "train_df.shape , test_df.shape"
   ]
  },
  {
   "cell_type": "code",
   "execution_count": 6,
   "metadata": {},
   "outputs": [],
   "source": [
    "train_df['X'] = train_df['X'].apply(lambda x : re.sub('[^A-Za-z0-9가-힣\\s]+', '', x))\n",
    "test_df['X'] = test_df['X'].apply(lambda x : re.sub('[^A-Za-z0-9가-힣\\s]+', '', x))"
   ]
  },
  {
   "cell_type": "code",
   "execution_count": 7,
   "metadata": {},
   "outputs": [],
   "source": [
    "train_df['token'] = train_df['X'].apply(lambda x : x.split(\" \"))\n",
    "test_df['token'] = test_df['X'].apply(lambda x : x.split(\" \"))"
   ]
  },
  {
   "cell_type": "code",
   "execution_count": 8,
   "metadata": {},
   "outputs": [],
   "source": [
    "train_df = train_df[train_df['token'].apply(lambda x : len(x) > 10)]\n",
    "test_df = test_df[test_df['token'].apply(lambda x : len(x) > 10)]\n",
    "\n",
    "train_df.reset_index(drop=True,inplace=True)\n",
    "test_df.reset_index(drop=True,inplace=True)"
   ]
  },
  {
   "cell_type": "code",
   "execution_count": 9,
   "metadata": {},
   "outputs": [],
   "source": [
    "word_to_idx_dict = defaultdict(int)\n",
    "word_to_idx_dict['<pad>'] = 0\n",
    "word_to_idx_dict['<unk>'] = 1\n",
    "\n",
    "for i in train_df['token'].tolist() : \n",
    "    for j in i :\n",
    "        if j not in word_to_idx_dict.keys() : \n",
    "            word_to_idx_dict[j] += len(word_to_idx_dict) - 1 "
   ]
  },
  {
   "cell_type": "code",
   "execution_count": 10,
   "metadata": {
    "scrolled": true
   },
   "outputs": [],
   "source": [
    "train_df['num_token'] = train_df['token'].apply(lambda x : [word_to_idx_dict[i] for i in x])\n",
    "test_df['num_token'] = test_df['token'].apply(lambda x : [word_to_idx_dict[i] for i in x])"
   ]
  },
  {
   "cell_type": "code",
   "execution_count": 11,
   "metadata": {},
   "outputs": [],
   "source": [
    "train_df.to_csv(\"english_mr_train_df.csv\",index=False)\n",
    "test_df.to_csv(\"english_mr_test_df.csv\",index=False)\n",
    "\n",
    "with open('english_mr_word_to_idx_dict.pickle', 'wb') as f:\n",
    "    pickle.dump(word_to_idx_dict, f)"
   ]
  },
  {
   "cell_type": "code",
   "execution_count": 12,
   "metadata": {},
   "outputs": [
    {
     "data": {
      "text/plain": [
       "count    39720.000000\n",
       "mean       231.129204\n",
       "std        171.143503\n",
       "min         11.000000\n",
       "25%        126.000000\n",
       "50%        173.000000\n",
       "75%        280.000000\n",
       "max       2278.000000\n",
       "Name: num_token, dtype: float64"
      ]
     },
     "execution_count": 12,
     "metadata": {},
     "output_type": "execute_result"
    }
   ],
   "source": [
    "train_df.num_token.apply(lambda x : len(x)).describe()"
   ]
  },
  {
   "cell_type": "code",
   "execution_count": 13,
   "metadata": {},
   "outputs": [],
   "source": [
    "def padding(num_token) : \n",
    "    \n",
    "    if len(num_token) < 100 : \n",
    "        num_token += [0] * (100-len(num_token))\n",
    "    elif len(num_token) > 100 :\n",
    "        num_token = num_token[:100]\n",
    "    else : pass\n",
    "    \n",
    "    return num_token"
   ]
  },
  {
   "cell_type": "code",
   "execution_count": 14,
   "metadata": {},
   "outputs": [],
   "source": [
    "train_df['num_token'] = train_df['num_token'].apply(lambda x : padding(x))\n",
    "test_df['num_token'] = test_df['num_token'].apply(lambda x : padding(x))"
   ]
  },
  {
   "cell_type": "code",
   "execution_count": 15,
   "metadata": {},
   "outputs": [],
   "source": [
    "train_X = torch.tensor(train_df['num_token'].tolist())\n",
    "train_y = torch.tensor(train_df['y'].tolist())\n",
    "\n",
    "test_X = torch.tensor(test_df['num_token'].tolist())\n",
    "test_y = torch.tensor(test_df['y'].tolist())"
   ]
  },
  {
   "cell_type": "code",
   "execution_count": 16,
   "metadata": {},
   "outputs": [],
   "source": [
    "torch.save(train_X, 'english_mv_train_X.pt')\n",
    "torch.save(train_y, 'english_mv_train_y.pt')\n",
    "torch.save(test_X, 'english_mv_test_X.pt')\n",
    "torch.save(test_y, 'english_mv_test_y.pt')"
   ]
  }
 ],
 "metadata": {
  "kernelspec": {
   "display_name": "engine_3.6",
   "language": "python",
   "name": "engine_3.6"
  },
  "language_info": {
   "codemirror_mode": {
    "name": "ipython",
    "version": 3
   },
   "file_extension": ".py",
   "mimetype": "text/x-python",
   "name": "python",
   "nbconvert_exporter": "python",
   "pygments_lexer": "ipython3",
   "version": "3.6.8"
  }
 },
 "nbformat": 4,
 "nbformat_minor": 2
}
